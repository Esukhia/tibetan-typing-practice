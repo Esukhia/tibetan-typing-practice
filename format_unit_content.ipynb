{
 "cells": [
  {
   "cell_type": "code",
   "execution_count": 2,
   "metadata": {},
   "outputs": [],
   "source": [
    "import re\n",
    "from pathlib import Path"
   ]
  },
  {
   "cell_type": "code",
   "execution_count": 15,
   "metadata": {},
   "outputs": [],
   "source": [
    "def construct_lesson(lesson):\n",
    "    result = ''\n",
    "    segs = re.split('(#+)', lesson)\n",
    "    for walker, seg in enumerate(segs):\n",
    "        if walker%2 == 0:\n",
    "            cur_seg = seg\n",
    "        else:\n",
    "            num_seg = len(seg)\n",
    "            result += f\"'{cur_seg} '+\\n\" * num_seg\n",
    "    result += f\"'{cur_seg} '+\\n\" * 3\n",
    "    return result"
   ]
  },
  {
   "cell_type": "code",
   "execution_count": 16,
   "metadata": {},
   "outputs": [],
   "source": [
    "lesson_text = Path('./lessons.txt').read_text(encoding='utf-8')"
   ]
  },
  {
   "cell_type": "code",
   "execution_count": 17,
   "metadata": {},
   "outputs": [],
   "source": [
    "lessons = lesson_text.splitlines()"
   ]
  },
  {
   "cell_type": "code",
   "execution_count": 19,
   "metadata": {},
   "outputs": [],
   "source": [
    "for walker, lesson in enumerate(lessons):\n",
    "    reformatted_lesson = construct_lesson(lesson)\n",
    "    Path(f'./lesson_{walker}.txt').write_text(reformatted_lesson, encoding='utf-8')"
   ]
  },
  {
   "cell_type": "code",
   "execution_count": 12,
   "metadata": {},
   "outputs": [
    {
     "data": {
      "text/plain": [
       "\"'༄༅། །ཉི་མ་གཅིག་མཁའ་འགྲོ་དང་མཚོ་མོས་བྱིའུ་ཞིག་གི་སྐད་གོ་བ་རེད།' +\\n'ཁོ་གཉིས་ཀྱིས་ཆ་སྒམ་སྒང་ལ་བྱིའུ་ཆུང་ཆུང་ཞིག་མཐོང་བ་རེད།' +\\n'བྱིའུ་དེ་ཞེད་སྣང་བྱེད་ཀྱི་ཡོད་པ་རེད།' +\\n'ཞི་མི་ཨ་ནུས་བྱིའུ་ཆུང་ཆུང་ལ་ལྟ་བསྡད་པ་མཚོ་མོས་མཐོང་བ་རེད།' +\\n'མཁའ་འགྲོས་ཨ་ནུ་ཁང་པའི་ཕྱི་ལ་བཏོན་པ་རེད།' +\\n'མཁའ་འགྲོ་བྱིའུ་ཆུང་ཆུང་དེའི་འགྲམ་ལ་ཕྱིན་པ་རེད།' +\\n'བྱིའ་ཆུང་ཆུང་དེ་སྒེའུ་ཁུང་ཡོད་སར་འཕུར་བ་རེད།' +\\n'མཚོ་མོས་བྱིའུ་ཆུང་ཆུང་དེ་འཇུ་རྩིས་བྱས་པ་རེད།' +\\n'མོས་བྱིའུ་ཆུང་ཆུང་དེ་ག་ལེར་འཇུས་པ་རེད།' +\\n'བྱིའུ་ཆུང་ཆུང་དེས་མཚོ་མོ་ལ་མཆུ་ཏོ་བཙུགས་པ་རེད།' +\\n'མཁའ་འགྲོས་བྱིའུ་ཆུང་ཆུང་དེ་ལ་འབྲས་ཏོག་ཙམ་ཁྱེར་ཡོང་བ་རེད།' +\\n'བྱིའུ་ཆུང་ཆུང་དེས་འབྲས་མ་བཟས་པ་རེད།' +\\n'མཚོ་མོས་སྒེའུ་ཁུང་ཕྱེ་བ་རེད།' +\\n'བྱིའུ་ཆུང་ཆུང་དེ་སྒེའུ་ཁུང་ནས་ཕྱི་ལ་འཕུར་བ་རེད།' +\\n'བྱིའུ་ཆུང་ཆུང་དེས་སྐད་ཅིར་ཅིར་བརྒྱབ་པ་རེད།' +\\n\""
      ]
     },
     "execution_count": 12,
     "metadata": {},
     "output_type": "execute_result"
    }
   ],
   "source": [
    "result"
   ]
  },
  {
   "cell_type": "code",
   "execution_count": null,
   "metadata": {},
   "outputs": [],
   "source": []
  }
 ],
 "metadata": {
  "kernelspec": {
   "display_name": "Python 3",
   "language": "python",
   "name": "python3"
  },
  "language_info": {
   "codemirror_mode": {
    "name": "ipython",
    "version": 3
   },
   "file_extension": ".py",
   "mimetype": "text/x-python",
   "name": "python",
   "nbconvert_exporter": "python",
   "pygments_lexer": "ipython3",
   "version": "3.6.9"
  }
 },
 "nbformat": 4,
 "nbformat_minor": 2
}
